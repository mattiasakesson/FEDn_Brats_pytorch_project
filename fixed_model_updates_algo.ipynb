{
 "cells": [
  {
   "cell_type": "code",
   "execution_count": null,
   "id": "8af5eef7-5790-405f-b23c-96008537023a",
   "metadata": {},
   "outputs": [],
   "source": []
  },
  {
   "cell_type": "code",
   "execution_count": 3,
   "id": "48670372-2dee-44b0-8377-70ed16ece6a1",
   "metadata": {},
   "outputs": [],
   "source": [
    "import os"
   ]
  },
  {
   "cell_type": "code",
   "execution_count": 4,
   "id": "257b9893-74db-4c0e-ac42-70cf678115c6",
   "metadata": {},
   "outputs": [],
   "source": [
    "data_path = '/home/mattias/Documents/projects/brats_datasets/likehospitalstructureddata'\n",
    "image_files = [os.path.join('train', 'images', i) for i in os.listdir(os.path.join(data_path, 'train', 'images'))]"
   ]
  },
  {
   "cell_type": "code",
   "execution_count": 5,
   "id": "acb3afce-8c34-466f-afcc-060570099691",
   "metadata": {},
   "outputs": [
    {
     "data": {
      "text/plain": [
       "['train/images/BraTS20_Training_004_4channel.nii.gz',\n",
       " 'train/images/BraTS20_Training_001_4channel.nii.gz',\n",
       " 'train/images/BraTS20_Training_002_4channel.nii.gz',\n",
       " 'train/images/BraTS20_Training_005_4channel.nii.gz',\n",
       " 'train/images/BraTS20_Training_006_4channel.nii.gz',\n",
       " 'train/images/BraTS20_Training_007_4channel.nii.gz',\n",
       " 'train/images/BraTS20_Training_003_4channel.nii.gz']"
      ]
     },
     "execution_count": 5,
     "metadata": {},
     "output_type": "execute_result"
    }
   ],
   "source": [
    "image_files"
   ]
  },
  {
   "cell_type": "code",
   "execution_count": 4,
   "id": "17569ab2-d71f-497f-a356-014b12377e6b",
   "metadata": {},
   "outputs": [
    {
     "data": {
      "text/plain": [
       "['train/labels/BraTS20_Training_007_seg.nii.gz',\n",
       " 'train/labels/BraTS20_Training_003_seg.nii.gz',\n",
       " 'train/labels/BraTS20_Training_006_seg.nii.gz',\n",
       " 'train/labels/BraTS20_Training_001_seg.nii.gz',\n",
       " 'train/labels/BraTS20_Training_005_seg.nii.gz',\n",
       " 'train/labels/BraTS20_Training_002_seg.nii.gz',\n",
       " 'train/labels/BraTS20_Training_004_seg.nii.gz']"
      ]
     },
     "execution_count": 4,
     "metadata": {},
     "output_type": "execute_result"
    }
   ],
   "source": [
    "label_files = [os.path.join('train', 'labels', i) for i in os.listdir(os.path.join(data_path, 'train', 'labels'))] # Changed by CJG to local data\n",
    "label_files"
   ]
  },
  {
   "cell_type": "code",
   "execution_count": 5,
   "id": "4231e14b-ad31-46e9-949f-9bea31935d72",
   "metadata": {},
   "outputs": [],
   "source": [
    "occurence = {im:0 for im in image_files}"
   ]
  },
  {
   "cell_type": "code",
   "execution_count": 6,
   "id": "984288e7-24f7-451f-b007-e4723ea18cbf",
   "metadata": {},
   "outputs": [
    {
     "data": {
      "text/plain": [
       "{'train/images/BraTS20_Training_004_4channel.nii.gz': 0,\n",
       " 'train/images/BraTS20_Training_001_4channel.nii.gz': 0,\n",
       " 'train/images/BraTS20_Training_002_4channel.nii.gz': 0,\n",
       " 'train/images/BraTS20_Training_005_4channel.nii.gz': 0,\n",
       " 'train/images/BraTS20_Training_006_4channel.nii.gz': 0,\n",
       " 'train/images/BraTS20_Training_007_4channel.nii.gz': 0,\n",
       " 'train/images/BraTS20_Training_003_4channel.nii.gz': 0}"
      ]
     },
     "execution_count": 6,
     "metadata": {},
     "output_type": "execute_result"
    }
   ],
   "source": [
    "occurence"
   ]
  },
  {
   "cell_type": "code",
   "execution_count": 48,
   "id": "5ab27adb-aaa8-40d1-b73d-c56652258922",
   "metadata": {},
   "outputs": [],
   "source": [
    "unused_patients = image_files[:6]\n",
    "model_updates = 3"
   ]
  },
  {
   "cell_type": "code",
   "execution_count": 49,
   "id": "89c509dc-9f6c-4e4b-8b8f-065a3cca6ec9",
   "metadata": {},
   "outputs": [
    {
     "data": {
      "text/plain": [
       "array(['train/images/BraTS20_Training_003_4channel.nii.gz',\n",
       "       'train/images/BraTS20_Training_002_4channel.nii.gz',\n",
       "       'train/images/BraTS20_Training_006_4channel.nii.gz'], dtype='<U49')"
      ]
     },
     "execution_count": 49,
     "metadata": {},
     "output_type": "execute_result"
    }
   ],
   "source": [
    "import numpy as np\n",
    "np.random.choice(image_files,3)"
   ]
  },
  {
   "cell_type": "code",
   "execution_count": 72,
   "id": "951f6219-1dd0-4c69-96c5-cfedf87ee131",
   "metadata": {},
   "outputs": [],
   "source": [
    "\n",
    "def sample_patient_fn(unused_patients, model_updates=3):\n",
    "    sample_patients = []\n",
    "    if len(unused_patients)>model_updates:\n",
    "        sample_ind = np.random.choice(len(unused_patients),model_updates, replace=False)\n",
    "        sample_patients += [unused_patients[s] for s in sample_ind]\n",
    "        unused_patients = list(np.delete(unused_patients,sample_ind))\n",
    "\n",
    "    else:\n",
    "        #print(\"sample_patients: \", sample_patients)\n",
    "        #print(\"unused_patients: \", unused_patients)\n",
    "        sample_patients += unused_patients\n",
    "        unused_patients = []\n",
    "        print([occurence[o] for o in occurence])\n",
    "        while model_updates - len(sample_patients) >= len(image_files):\n",
    "\n",
    "            sample_patients += image_files\n",
    "\n",
    "        #now model_updates - len(sample_patients) (=samples left) < image_files but >= 0\n",
    "\n",
    "\n",
    "        cand_patients = list(set(image_files) - set(sample_patients))\n",
    "\n",
    "        sample_ind = np.random.choice(len(cand_patients),model_updates - len(sample_patients), replace=False)\n",
    "        sample_patients += [cand_patients[s] for s in sample_ind]\n",
    "        unused_patients = np.delete(cand_patients,sample_ind)\n",
    "\n",
    "    #print(sample_patients)\n",
    "    return sample_patients, unused_patients"
   ]
  },
  {
   "cell_type": "code",
   "execution_count": 73,
   "id": "bb7b5ae1-d916-41f1-be04-e24944cf38d1",
   "metadata": {},
   "outputs": [
    {
     "name": "stdout",
     "output_type": "stream",
     "text": [
      "[4, 5, 3, 4, 4, 5, 5]\n"
     ]
    }
   ],
   "source": [
    "sample_patients, unused_patients = sample_patient_fn([], model_updates=3)"
   ]
  },
  {
   "cell_type": "code",
   "execution_count": 74,
   "id": "dc3d33ea-c798-4424-81e3-b203d047fd7b",
   "metadata": {},
   "outputs": [
    {
     "name": "stdout",
     "output_type": "stream",
     "text": [
      "i:  0\n",
      "[0, 0, 0, 0, 0, 0, 0]\n",
      "i:  1\n",
      "i:  2\n",
      "[1, 1, 1, 1, 0, 1, 1]\n",
      "i:  3\n",
      "i:  4\n",
      "[1, 2, 2, 2, 1, 2, 2]\n",
      "i:  5\n",
      "i:  6\n",
      "[2, 3, 3, 2, 2, 3, 3]\n",
      "i:  7\n",
      "i:  8\n",
      "[3, 3, 4, 3, 3, 4, 4]\n",
      "i:  9\n"
     ]
    }
   ],
   "source": [
    "occurence = {im:0 for im in image_files}\n",
    "\n",
    "unused_patients = []\n",
    "\n",
    "for i in range(10):\n",
    "    print(\"i: \", i)\n",
    "    sample_patients, unused_patients = sample_patient_fn(unused_patients, model_updates=3)\n",
    "    \n",
    "    for s in sample_patients:\n",
    "        occurence[s] += 1"
   ]
  },
  {
   "cell_type": "code",
   "execution_count": 71,
   "id": "da3fb307-c920-4e3f-8652-a0c99f0cb4be",
   "metadata": {},
   "outputs": [
    {
     "data": {
      "text/plain": [
       "{'train/images/BraTS20_Training_004_4channel.nii.gz': 4,\n",
       " 'train/images/BraTS20_Training_001_4channel.nii.gz': 5,\n",
       " 'train/images/BraTS20_Training_002_4channel.nii.gz': 3,\n",
       " 'train/images/BraTS20_Training_005_4channel.nii.gz': 4,\n",
       " 'train/images/BraTS20_Training_006_4channel.nii.gz': 4,\n",
       " 'train/images/BraTS20_Training_007_4channel.nii.gz': 5,\n",
       " 'train/images/BraTS20_Training_003_4channel.nii.gz': 5}"
      ]
     },
     "execution_count": 71,
     "metadata": {},
     "output_type": "execute_result"
    }
   ],
   "source": [
    "occurence"
   ]
  },
  {
   "cell_type": "code",
   "execution_count": 75,
   "id": "164707b9-340f-4c05-9397-033026dcdb36",
   "metadata": {},
   "outputs": [
    {
     "data": {
      "text/plain": [
       "'/home/mattias/Documents/projects/temp/fedn/examples/mnist-pytorch'"
      ]
     },
     "execution_count": 75,
     "metadata": {},
     "output_type": "execute_result"
    }
   ],
   "source": [
    "os.getcwd()"
   ]
  },
  {
   "cell_type": "code",
   "execution_count": null,
   "id": "68ad4799-8016-4ba7-9dba-8acffeedb00f",
   "metadata": {},
   "outputs": [],
   "source": []
  }
 ],
 "metadata": {
  "kernelspec": {
   "display_name": "venv310",
   "language": "python",
   "name": "venv310"
  },
  "language_info": {
   "codemirror_mode": {
    "name": "ipython",
    "version": 3
   },
   "file_extension": ".py",
   "mimetype": "text/x-python",
   "name": "python",
   "nbconvert_exporter": "python",
   "pygments_lexer": "ipython3",
   "version": "3.10.14"
  }
 },
 "nbformat": 4,
 "nbformat_minor": 5
}
